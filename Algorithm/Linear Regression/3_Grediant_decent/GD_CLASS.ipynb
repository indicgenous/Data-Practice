{
 "cells": [
  {
   "cell_type": "code",
   "execution_count": null,
   "id": "bd8de833",
   "metadata": {},
   "outputs": [],
   "source": [
    "from sklearn.datasets import make_regression \n",
    "import matplotlib.pyplot as plt\n",
    "import numpy as np\n",
    "from sklearn.model_selection import cross_val_score"
   ]
  },
  {
   "cell_type": "code",
   "execution_count": null,
   "id": "0a6c66ad",
   "metadata": {},
   "outputs": [],
   "source": [
    "x,y = make_regression(n_samples=100,n_features=1,n_informative=1,n_targets=1,noise=20)"
   ]
  },
  {
   "cell_type": "code",
   "execution_count": null,
   "id": "6ec74373",
   "metadata": {},
   "outputs": [],
   "source": [
    "plt.scatter(x,y)"
   ]
  },
  {
   "cell_type": "code",
   "execution_count": null,
   "id": "f962ea08",
   "metadata": {},
   "outputs": [],
   "source": [
    "from sklearn.model_selection import train_test_split \n",
    "\n",
    "x_train,x_test,y_train,y_test = train_test_split(x,y,test_size=0.2,random_state=2)"
   ]
  },
  {
   "cell_type": "code",
   "execution_count": null,
   "id": "6d13daa9",
   "metadata": {},
   "outputs": [],
   "source": [
    "from sklearn.linear_model import LinearRegression \n",
    "\n",
    "lr = LinearRegression()\n",
    "\n",
    "lr.fit(x_train,y_train)"
   ]
  },
  {
   "cell_type": "code",
   "execution_count": null,
   "id": "250b2426",
   "metadata": {},
   "outputs": [],
   "source": [
    "print(lr.coef_)\n",
    "print(lr.intercept_)"
   ]
  },
  {
   "cell_type": "code",
   "execution_count": null,
   "id": "7d0321ae",
   "metadata": {},
   "outputs": [],
   "source": [
    "np.mean(cross_val_score(lr,x,y,scoring='r2',cv=10))"
   ]
  },
  {
   "cell_type": "code",
   "execution_count": null,
   "id": "6e9fbf53",
   "metadata": {},
   "outputs": [],
   "source": [
    "from sklearn.metrics import r2_score\n",
    "y_pred = lr.predict(x_test)\n",
    "r2_score(y_test,y_pred)"
   ]
  },
  {
   "cell_type": "code",
   "execution_count": null,
   "id": "65b4befd",
   "metadata": {},
   "outputs": [],
   "source": [
    "class GDRegressor:\n",
    "    def __init__ (self,learning_rate,epochs):\n",
    "        self.m=1\n",
    "        self.b=0\n",
    "        self.lr=learning_rate\n",
    "        self.epochs =epochs \n",
    "        \n",
    "    def fit(self,x,y):\n",
    "            for i in range(self.epochs):\n",
    "                loss_slope_b = -2* np.sum(y-(self.m*x.ravel())-self.b);\n",
    "                loss_slope_m=-2*np.sum((y-(self.m*x.ravel())-self.m)*x.ravel())\n",
    "                self.b = self.b-(self.lr*loss_slope_b)\n",
    "                self.m = self.m-(self.lr*loss_slope_m)\n",
    "#                 print(self.b,self.m)\n",
    "            print(self.b,self.m)    \n",
    "    \n",
    "    def predict(self,x):\n",
    "        return self.m*x + self.b"
   ]
  },
  {
   "cell_type": "code",
   "execution_count": null,
   "id": "5bb62a11",
   "metadata": {
    "scrolled": false
   },
   "outputs": [],
   "source": [
    "lnr=0.001\n",
    "epochs = 50\n",
    "gd = GDRegressor(lnr,epochs)\n",
    "\n",
    "gd.fit(x_train,y_train)"
   ]
  },
  {
   "cell_type": "code",
   "execution_count": null,
   "id": "3359396e",
   "metadata": {},
   "outputs": [],
   "source": [
    "gd.predict(x_test)\n",
    "from sklearn.metrics import r2_score\n",
    "y_pred = lr.predict(x_test)\n",
    "r2_score(y_test,y_pred)"
   ]
  },
  {
   "cell_type": "code",
   "execution_count": null,
   "id": "0d4c4de9",
   "metadata": {},
   "outputs": [],
   "source": []
  }
 ],
 "metadata": {
  "kernelspec": {
   "display_name": "Python 3 (ipykernel)",
   "language": "python",
   "name": "python3"
  },
  "language_info": {
   "codemirror_mode": {
    "name": "ipython",
    "version": 3
   },
   "file_extension": ".py",
   "mimetype": "text/x-python",
   "name": "python",
   "nbconvert_exporter": "python",
   "pygments_lexer": "ipython3",
   "version": "3.9.12"
  }
 },
 "nbformat": 4,
 "nbformat_minor": 5
}
