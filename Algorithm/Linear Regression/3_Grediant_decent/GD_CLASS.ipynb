{
 "cells": [
  {
   "cell_type": "code",
   "execution_count": 26,
   "id": "bd8de833",
   "metadata": {},
   "outputs": [],
   "source": [
    "from sklearn.datasets import make_regression \n",
    "import matplotlib.pyplot as plt\n",
    "import numpy as np"
   ]
  },
  {
   "cell_type": "code",
   "execution_count": 34,
   "id": "0a6c66ad",
   "metadata": {},
   "outputs": [],
   "source": [
    "x,y = make_regression(n_samples=100,n_features=1,n_informative=1,n_targets=1,noise=20)"
   ]
  },
  {
   "cell_type": "code",
   "execution_count": 35,
   "id": "6ec74373",
   "metadata": {},
   "outputs": [
    {
     "data": {
      "text/plain": [
       "<matplotlib.collections.PathCollection at 0x1616a010700>"
      ]
     },
     "execution_count": 35,
     "metadata": {},
     "output_type": "execute_result"
    },
    {
     "data": {
      "image/png": "[encoded data removed]",
      "text/plain": [
       "<Figure size 432x288 with 1 Axes>"
      ]
     },
     "metadata": {
      "needs_background": "light"
     },
     "output_type": "display_data"
    }
   ],
   "source": [
    "plt.scatter(x,y)"
   ]
  },
  {
   "cell_type": "code",
   "execution_count": 36,
   "id": "6d13daa9",
   "metadata": {},
   "outputs": [
    {
     "data": {
      "text/plain": [
       "LinearRegression()"
      ]
     },
     "execution_count": 36,
     "metadata": {},
     "output_type": "execute_result"
    }
   ],
   "source": [
    "from sklearn.linear_model import LinearRegression \n",
    "\n",
    "lr = LinearRegression()\n",
    "\n",
    "lr.fit(x,y)"
   ]
  },
  {
   "cell_type": "code",
   "execution_count": 37,
   "id": "250b2426",
   "metadata": {},
   "outputs": [
    {
     "name": "stdout",
     "output_type": "stream",
     "text": [
      "[23.39556775]\n",
      "0.3875973303501937\n"
     ]
    }
   ],
   "source": [
    "print(lr.coef_)\n",
    "print(lr.intercept_)"
   ]
  },
  {
   "cell_type": "code",
   "execution_count": 38,
   "id": "6e9fbf53",
   "metadata": {},
   "outputs": [],
   "source": [
    "m=23.39"
   ]
  },
  {
   "cell_type": "code",
   "execution_count": 53,
   "id": "65b4befd",
   "metadata": {},
   "outputs": [],
   "source": [
    "class GDRegressor:\n",
    "    def __init__ (self,learning_rate,epochs):\n",
    "        self.m = 23.39\n",
    "        self.b=-120\n",
    "        self.lr=learning_rate\n",
    "        self.epochs =epochs \n",
    "        \n",
    "    def fit(self,x,y):\n",
    "            for i in range(self.epochs):\n",
    "                loss_slope = -2* np.sum(y-(self.m*x.ravel())-self.b);\n",
    "                self.b = self.b-(self.lr*loss_slope)\n",
    "                print(loss_slope,self.b)\n",
    "            print(self.b)        "
   ]
  },
  {
   "cell_type": "code",
   "execution_count": 59,
   "id": "5bb62a11",
   "metadata": {
    "scrolled": false
   },
   "outputs": [
    {
     "name": "stdout",
     "output_type": "stream",
     "text": [
      "-24077.4776623823 -95.92252233761769\n",
      "-19261.98212990584 -76.66054020771185\n",
      "-15409.585703924668 -61.25095450378718\n",
      "-12327.668563139732 -48.923285940647446\n",
      "-9862.13485051179 -39.06115109013565\n",
      "-7889.707880409428 -31.171443209726224\n",
      "-6311.766304327543 -24.85967690539868\n",
      "-5049.413043462034 -19.810263861936647\n",
      "-4039.5304347696283 -15.77073342716702\n",
      "-3231.6243478157025 -12.539109079351316\n",
      "-2585.299478252562 -9.953809601098754\n",
      "-2068.239582602049 -7.885570018496706\n",
      "-1654.59166608164 -6.230978352415066\n",
      "-1323.6733328653115 -4.907305019549755\n",
      "-1058.9386662922495 -3.8483663532575054\n",
      "-847.1509330337996 -3.001215420223706\n",
      "-677.7207464270397 -2.323494673796666\n",
      "-542.1765971416318 -1.7813180766550345\n",
      "-433.74127771330524 -1.3475767989417293\n",
      "-346.9930221706444 -1.000583776771085\n",
      "-277.59441773651537 -0.7229893590345696\n",
      "-222.0755341892125 -0.5009138248453571\n",
      "-177.6604273513699 -0.3232533974939872\n",
      "-142.12834188109562 -0.18112505561289155\n",
      "-113.70267350487671 -0.06742238210801484\n",
      "-90.96213880390131 0.023539756695886482\n",
      "-72.76971104312113 0.09630946773900761\n",
      "-58.21576883449702 0.15452523657350464\n",
      "-46.57261506759741 0.20109785164110205\n",
      "-37.2580920540781 0.23835594369518015\n",
      "-29.806473643262354 0.2681624173384425\n",
      "-23.845178914609864 0.29200759625305234\n",
      "-19.076143131687967 0.3110837393847403\n",
      "-15.26091450535026 0.3263446538900906\n",
      "-12.208731604280427 0.33855338549437103\n",
      "-9.76698528342424 0.34832037077779526\n",
      "-7.813588226739505 0.35613395900453476\n",
      "-6.2508705813913465 0.3623848295859261\n",
      "-5.000696465113073 0.3673855260510392\n",
      "-4.000557172090723 0.37138608322312994\n",
      "-3.2004457376725313 0.37458652896080247\n",
      "-2.5603565901379994 0.37714688555094045\n",
      "-2.0482852721102773 0.3791951708230507\n",
      "-1.638628217688236 0.38083379904073894\n",
      "-1.3109025741506528 0.3821447016148896\n",
      "-1.0487220593204611 0.38319342367421005\n",
      "-0.8389776474564243 0.3840324013216665\n",
      "-0.6711821179651594 0.3847035834396317\n",
      "-0.5369456943722 0.38524052913400386\n",
      "-0.4295565554974772 0.38567008568950134\n",
      "-0.3436452443981963 0.3860137309338995\n",
      "-0.27491619551854996 0.3862886471294181\n",
      "-0.21993295641470212 0.3865085800858328\n",
      "-0.1759463651319635 0.38668452645096474\n",
      "-0.1407570921055168 0.3868252835430703\n",
      "-0.11260567368425001 0.38693788921675454\n",
      "-0.09008453894755064 0.3870279737557021\n",
      "-0.07206763115789983 0.38710004138686\n",
      "-0.057654104926470495 0.38715769549178647\n",
      "-0.046123283941163606 0.3872038187757276\n",
      "-0.0368986271528442 0.38724071740288046\n",
      "-0.029518901722305202 0.3872702363046028\n",
      "-0.023615121377915216 0.3872938514259807\n",
      "-0.01889209710233075 0.38731274352308304\n",
      "-0.015113677681817705 0.38732785720076485\n",
      "-0.012090942145398742 0.38733994814291023\n",
      "-0.00967275371645826 0.38734962089662667\n",
      "-0.007738202973186503 0.38735735909959984\n",
      "-0.00619056237842841 0.3873635496619783\n",
      "-0.004952449902859257 0.3873685021118811\n",
      "-0.003961959922250458 0.38737246407180337\n",
      "-0.0031695679377747865 0.38737563363974115\n",
      "-0.0025356543502255136 0.38737816929409136\n",
      "-0.0020285234802415175 0.3873801978175716\n",
      "-0.001622818784127844 0.38738182063635573\n",
      "-0.0012982550273079596 0.38738311889138305\n",
      "-0.0010386040218719472 0.38738415749540495\n",
      "-0.0008308832175245584 0.38738498837862245\n",
      "-0.0006647065739429081 0.3873856530851964\n",
      "-0.0005317652592040645 0.3873861848504556\n",
      "-0.0004254122072140376 0.38738661026266286\n",
      "-0.0003403297657982307 0.38738695059242867\n",
      "-0.0002722638126542165 0.38738722285624133\n",
      "-0.00021781105029816672 0.38738744066729164\n",
      "-0.000174248839933 0.38738761491613155\n",
      "-0.0001393990720330862 0.38738775431520356\n",
      "-0.0001115192577501034 0.38738786583446133\n",
      "-8.921540618445079e-05 0.3873879550498675\n",
      "-7.137232491771783e-05 0.38738802642219244\n",
      "-5.70978599014893e-05 0.38738808352005233\n",
      "-4.567828806045782e-05 0.38738812919834037\n",
      "-3.654263046826145e-05 0.38738816574097085\n",
      "-2.9234104040654074e-05 0.3873881949750749\n",
      "-2.3387283462739106e-05 0.3873882183623583\n",
      "-1.870982681850819e-05 0.3873882370721851\n",
      "-1.4967861332593202e-05 0.38738825204004645\n",
      "-1.1974289087390844e-05 0.3873882640143355\n",
      "-9.57943129975547e-06 0.3873882735937668\n",
      "-7.663544892011487e-06 0.38738828125731173\n",
      "-6.130835906503762e-06 0.3873882873881476\n",
      "0.3873882873881476\n"
     ]
    }
   ],
   "source": [
    "lnr=0.001\n",
    "epochs = 100\n",
    "gd = GDRegressor(lnr,epochs)\n",
    "\n",
    "gd.fit(x,y)"
   ]
  },
  {
   "cell_type": "code",
   "execution_count": null,
   "id": "3359396e",
   "metadata": {},
   "outputs": [],
   "source": []
  }
 ],
 "metadata": {
  "kernelspec": {
   "display_name": "Python 3 (ipykernel)",
   "language": "python",
   "name": "python3"
  },
  "language_info": {
   "codemirror_mode": {
    "name": "ipython",
    "version": 3
   },
   "file_extension": ".py",
   "mimetype": "text/x-python",
   "name": "python",
   "nbconvert_exporter": "python",
   "pygments_lexer": "ipython3",
   "version": "3.9.12"
  }
 },
 "nbformat": 4,
 "nbformat_minor": 5
}
